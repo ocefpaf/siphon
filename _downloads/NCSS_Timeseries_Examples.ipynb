{
  "nbformat_minor": 0, 
  "nbformat": 4, 
  "cells": [
    {
      "execution_count": null, 
      "cell_type": "code", 
      "source": [
        "%matplotlib inline"
      ], 
      "outputs": [], 
      "metadata": {
        "collapsed": false
      }
    }, 
    {
      "source": [
        "\n# NCSS Time Series\n\n\nUse Siphon to query the NetCDF Subset Service for a timeseries.\n\n"
      ], 
      "cell_type": "markdown", 
      "metadata": {}
    }, 
    {
      "execution_count": null, 
      "cell_type": "code", 
      "source": [
        "from datetime import datetime, timedelta\n\nimport matplotlib.pyplot as plt\nfrom netCDF4 import num2date\n\nfrom siphon.catalog import TDSCatalog"
      ], 
      "outputs": [], 
      "metadata": {
        "collapsed": false
      }
    }, 
    {
      "source": [
        "First we construct a TDSCatalog instance pointing to our dataset of interest, in\nthis case TDS' \"Best\" virtual dataset for the GFS global 0.5 degree collection of\nGRIB files. We see this catalog contains a single dataset.\n\n"
      ], 
      "cell_type": "markdown", 
      "metadata": {}
    }, 
    {
      "execution_count": null, 
      "cell_type": "code", 
      "source": [
        "best_gfs = TDSCatalog('http://thredds.ucar.edu/thredds/catalog/grib/NCEP/GFS/'\n                      'Global_0p5deg/catalog.xml?dataset=grib/NCEP/GFS/Global_0p5deg/Best')\nprint(best_gfs.datasets)"
      ], 
      "outputs": [], 
      "metadata": {
        "collapsed": false
      }
    }, 
    {
      "source": [
        "We pull out this dataset and get the NCSS access point\n\n"
      ], 
      "cell_type": "markdown", 
      "metadata": {}
    }, 
    {
      "execution_count": null, 
      "cell_type": "code", 
      "source": [
        "best_ds = best_gfs.datasets[0]\nncss = best_ds.subset()"
      ], 
      "outputs": [], 
      "metadata": {
        "collapsed": false
      }
    }, 
    {
      "source": [
        "We can then use the `ncss` object to create a new query object, which\nfacilitates asking for data from the server.\n\n"
      ], 
      "cell_type": "markdown", 
      "metadata": {}
    }, 
    {
      "execution_count": null, 
      "cell_type": "code", 
      "source": [
        "query = ncss.query()"
      ], 
      "outputs": [], 
      "metadata": {
        "collapsed": false
      }
    }, 
    {
      "source": [
        "We construct a query asking for data corresponding to latitude 40N and longitude 105W,\nfor the next 7 days. We also ask for NetCDF version 4 data, for the variable\n'Temperature_isobaric', at the vertical level of 100000 Pa (approximately surface).\nThis request will return all times in the range for a single point. Note the string\nrepresentation of the query is a properly encoded query string.\n\n"
      ], 
      "cell_type": "markdown", 
      "metadata": {}
    }, 
    {
      "execution_count": null, 
      "cell_type": "code", 
      "source": [
        "now = datetime.utcnow()\nquery.lonlat_point(-105, 40).vertical_level(100000).time_range(now, now + timedelta(days=7))\nquery.variables('Temperature_isobaric').accept('netcdf')"
      ], 
      "outputs": [], 
      "metadata": {
        "collapsed": false
      }
    }, 
    {
      "source": [
        "We now request data from the server using this query. The `NCSS` class handles parsing\nthis NetCDF data (using the `netCDF4` module). If we print out the variable names, we\nsee our requested variables, as well as a few others (more metadata information)\n\n"
      ], 
      "cell_type": "markdown", 
      "metadata": {}
    }, 
    {
      "execution_count": null, 
      "cell_type": "code", 
      "source": [
        "data = ncss.get_data(query)\nlist(data.variables.keys())"
      ], 
      "outputs": [], 
      "metadata": {
        "collapsed": false
      }
    }, 
    {
      "source": [
        "We'll pull out the temperature  and time variables.\n\n"
      ], 
      "cell_type": "markdown", 
      "metadata": {}
    }, 
    {
      "execution_count": null, 
      "cell_type": "code", 
      "source": [
        "temp = data.variables['Temperature_isobaric']\ntime = data.variables['time']"
      ], 
      "outputs": [], 
      "metadata": {
        "collapsed": false
      }
    }, 
    {
      "source": [
        "The time values are in hours relative to the start of the entire model collection.\nFortunately, the `netCDF4` module has a helper function to convert these numbers into\nPython `datetime` objects. We can see the first 5 element output by the function look\nreasonable.\n\n"
      ], 
      "cell_type": "markdown", 
      "metadata": {}
    }, 
    {
      "execution_count": null, 
      "cell_type": "code", 
      "source": [
        "time_vals = num2date(time[:].squeeze(), time.units)\nprint(time_vals[:5])"
      ], 
      "outputs": [], 
      "metadata": {
        "collapsed": false
      }
    }, 
    {
      "source": [
        "Now we can plot these up using matplotlib, which has ready-made support for `datetime`\nobjects.\n\n"
      ], 
      "cell_type": "markdown", 
      "metadata": {}
    }, 
    {
      "execution_count": null, 
      "cell_type": "code", 
      "source": [
        "fig, ax = plt.subplots(1, 1, figsize=(9, 8))\nax.plot(time_vals, temp[:].squeeze(), 'r', linewidth=2)\nax.set_ylabel('{} ({})'.format(temp.standard_name, temp.units))\nax.set_xlabel('Forecast Time (UTC)')\nax.grid(True)"
      ], 
      "outputs": [], 
      "metadata": {
        "collapsed": false
      }
    }
  ], 
  "metadata": {
    "kernelspec": {
      "display_name": "Python 2", 
      "name": "python2", 
      "language": "python"
    }, 
    "language_info": {
      "mimetype": "text/x-python", 
      "nbconvert_exporter": "python", 
      "name": "python", 
      "file_extension": ".py", 
      "version": "2.7.9", 
      "pygments_lexer": "ipython2", 
      "codemirror_mode": {
        "version": 2, 
        "name": "ipython"
      }
    }
  }
}
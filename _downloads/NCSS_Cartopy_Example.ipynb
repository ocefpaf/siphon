{
  "nbformat_minor": 0, 
  "nbformat": 4, 
  "cells": [
    {
      "execution_count": null, 
      "cell_type": "code", 
      "source": [
        "%matplotlib inline"
      ], 
      "outputs": [], 
      "metadata": {
        "collapsed": false
      }
    }, 
    {
      "source": [
        "\n# NCSS and CartoPy\n\n\nUse Siphon to query the NetCDF Subset Service (NCSS) and plot on a map.\n\nThis example uses Siphon's NCSS class to provide temperature data\nfor contouring a basic map using CartoPy.\n\n"
      ], 
      "cell_type": "markdown", 
      "metadata": {}
    }, 
    {
      "execution_count": null, 
      "cell_type": "code", 
      "source": [
        "from datetime import datetime\n\nimport cartopy.crs as ccrs\nimport cartopy.feature as cfeature\nimport matplotlib.pyplot as plt\nfrom netCDF4 import num2date\nimport numpy as np\n\nfrom siphon.catalog import TDSCatalog"
      ], 
      "outputs": [], 
      "metadata": {
        "collapsed": false
      }
    }, 
    {
      "source": [
        "First we construct a `TDSCatalog` instance pointing to our dataset of interest, in\nthis case TDS' \"Best\" virtual dataset for the GFS global 0.25 degree collection of\nGRIB files. This will give us a good resolution for our map. This catalog contains a\nsingle dataset.\n\n"
      ], 
      "cell_type": "markdown", 
      "metadata": {}
    }, 
    {
      "execution_count": null, 
      "cell_type": "code", 
      "source": [
        "best_gfs = TDSCatalog('http://thredds.ucar.edu/thredds/catalog/grib/NCEP/GFS/'\n                      'Global_0p25deg/catalog.xml?dataset=grib/NCEP/GFS/Global_0p25deg/Best')\nprint(list(best_gfs.datasets))"
      ], 
      "outputs": [], 
      "metadata": {
        "collapsed": false
      }
    }, 
    {
      "source": [
        "We pull out this dataset and get the NCSS access point\n\n"
      ], 
      "cell_type": "markdown", 
      "metadata": {}
    }, 
    {
      "execution_count": null, 
      "cell_type": "code", 
      "source": [
        "best_ds = best_gfs.datasets[0]\nncss = best_ds.subset()"
      ], 
      "outputs": [], 
      "metadata": {
        "collapsed": false
      }
    }, 
    {
      "source": [
        "We can then use the `ncss` object to create a new query object, which\nfacilitates asking for data from the server.\n\n"
      ], 
      "cell_type": "markdown", 
      "metadata": {}
    }, 
    {
      "execution_count": null, 
      "cell_type": "code", 
      "source": [
        "query = ncss.query()"
      ], 
      "outputs": [], 
      "metadata": {
        "collapsed": false
      }
    }, 
    {
      "source": [
        "We construct a query asking for data corresponding to a latitude and longitude box where 43\nlat is the northern extent, 35 lat is the southern extent, -111 long is the western extent\nand -100 is the eastern extent. We request the data for the current time.\n\nWe also ask for NetCDF version 4 data, for the variable 'temperature_surface'. This request\nwill return all surface temperatures for points in our bounding box for a single time,\nnearest to that requested. Note the string representation of the query is a properly encoded\nquery string.\n\n"
      ], 
      "cell_type": "markdown", 
      "metadata": {}
    }, 
    {
      "execution_count": null, 
      "cell_type": "code", 
      "source": [
        "query.lonlat_box(north=43, south=35, east=-100, west=-111).time(datetime.utcnow())\nquery.accept('netcdf4')\nquery.variables('Temperature_surface')"
      ], 
      "outputs": [], 
      "metadata": {
        "collapsed": false
      }
    }, 
    {
      "source": [
        "We now request data from the server using this query. The `NCSS` class handles parsing\nthis NetCDF data (using the `netCDF4` module). If we print out the variable names, we see\nour requested variable, as well as the coordinate variables (needed to properly reference\nthe data).\n\n"
      ], 
      "cell_type": "markdown", 
      "metadata": {}
    }, 
    {
      "execution_count": null, 
      "cell_type": "code", 
      "source": [
        "data = ncss.get_data(query)\nprint(list(data.variables))"
      ], 
      "outputs": [], 
      "metadata": {
        "collapsed": false
      }
    }, 
    {
      "source": [
        "We'll pull out the useful variables for temperature, latitude, and longitude, and time\n(which is the time, in hours since the forecast run).\n\n"
      ], 
      "cell_type": "markdown", 
      "metadata": {}
    }, 
    {
      "execution_count": null, 
      "cell_type": "code", 
      "source": [
        "temp_var = data.variables['Temperature_surface']\n\n# Time variables can be renamed in GRIB collections. Best to just pull it out of the\n# coordinates attribute on temperature\ntime_name = temp_var.coordinates.split()[1]\ntime_var = data.variables[time_name]\nlat_var = data.variables['lat']\nlon_var = data.variables['lon']"
      ], 
      "outputs": [], 
      "metadata": {
        "collapsed": false
      }
    }, 
    {
      "source": [
        "Now we make our data suitable for plotting.\n\n"
      ], 
      "cell_type": "markdown", 
      "metadata": {}
    }, 
    {
      "execution_count": null, 
      "cell_type": "code", 
      "source": [
        "# Get the actual data values and remove any size 1 dimensions\ntemp_vals = temp_var[:].squeeze()\nlat_vals = lat_var[:].squeeze()\nlon_vals = lon_var[:].squeeze()\n\n# Convert the number of hours since the reference time to an actual date\ntime_val = num2date(time_var[:].squeeze(), time_var.units)\n\n# Convert temps to Fahrenheit from Kelvin\ntemp_vals = temp_vals * 1.8 - 459.67\n\n# Combine 1D latitude and longitudes into a 2D grid of locations\nlon_2d, lat_2d = np.meshgrid(lon_vals, lat_vals)"
      ], 
      "outputs": [], 
      "metadata": {
        "collapsed": false
      }
    }, 
    {
      "source": [
        "Now we can plot these up using matplotlib and cartopy.\n\n"
      ], 
      "cell_type": "markdown", 
      "metadata": {}
    }, 
    {
      "execution_count": null, 
      "cell_type": "code", 
      "source": [
        "# Create a new figure\nfig = plt.figure(figsize=(15, 12))\n\n# Add the map and set the extent\nax = plt.axes(projection=ccrs.PlateCarree())\nax.set_extent([-100., -111., 35, 43])\n\n# Add state boundaries to plot\nstates_provinces = cfeature.NaturalEarthFeature(\n    category='cultural',\n    name='admin_1_states_provinces_lines',\n    scale='50m',\n    facecolor='none')\nax.add_feature(states_provinces, edgecolor='black', linewidth=2)\n\n# Contour temperature at each lat/long\ncf = ax.contourf(lon_2d, lat_2d, temp_vals, 200, transform=ccrs.PlateCarree(), zorder=0,\n                 cmap='coolwarm')\n\n# Plot a colorbar to show temperature and reduce the size of it\nplt.colorbar(cf, ax=ax, fraction=0.032)\n\n# Make a title with the time value\nax.set_title(u'Temperature forecast (\\u00b0F) for {0:%d %B %Y %H:%MZ}'.format(time_val),\n             fontsize=20)\n\n# Plot markers for each lat/long to show grid points for 0.25 deg GFS\nax.plot(lon_2d.flatten(), lat_2d.flatten(), marker='o', color='black', markersize=2,\n        alpha=0.3, transform=ccrs.Geodetic(), zorder=2, linestyle='none')"
      ], 
      "outputs": [], 
      "metadata": {
        "collapsed": false
      }
    }
  ], 
  "metadata": {
    "kernelspec": {
      "display_name": "Python 2", 
      "name": "python2", 
      "language": "python"
    }, 
    "language_info": {
      "mimetype": "text/x-python", 
      "nbconvert_exporter": "python", 
      "name": "python", 
      "file_extension": ".py", 
      "version": "2.7.9", 
      "pygments_lexer": "ipython2", 
      "codemirror_mode": {
        "version": 2, 
        "name": "ipython"
      }
    }
  }
}
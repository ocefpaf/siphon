{
  "nbformat_minor": 0, 
  "nbformat": 4, 
  "cells": [
    {
      "execution_count": null, 
      "cell_type": "code", 
      "source": [
        "%matplotlib inline"
      ], 
      "outputs": [], 
      "metadata": {
        "collapsed": false
      }
    }, 
    {
      "source": [
        "\n# TDS Radar Query Service\n\n\nUse Siphon to get NEXRAD Level 3 data from a TDS.\n\n"
      ], 
      "cell_type": "markdown", 
      "metadata": {}
    }, 
    {
      "execution_count": null, 
      "cell_type": "code", 
      "source": [
        "from datetime import datetime\n\nimport matplotlib.pyplot as plt\nimport numpy as np\n\nfrom siphon.cdmr import Dataset\nfrom siphon.radarserver import get_radarserver_datasets, RadarServer"
      ], 
      "outputs": [], 
      "metadata": {
        "collapsed": false
      }
    }, 
    {
      "source": [
        "First, point to the top-level thredds radar server accessor to find what datasets are\navailable.\n\n"
      ], 
      "cell_type": "markdown", 
      "metadata": {}
    }, 
    {
      "execution_count": null, 
      "cell_type": "code", 
      "source": [
        "ds = get_radarserver_datasets('http://thredds.ucar.edu/thredds/')\nprint(list(ds))"
      ], 
      "outputs": [], 
      "metadata": {
        "collapsed": false
      }
    }, 
    {
      "source": [
        "Now create an instance of RadarServer to point to the appropriate\nradar server access URL. This is pulled from the catalog reference url.\n\n"
      ], 
      "cell_type": "markdown", 
      "metadata": {}
    }, 
    {
      "execution_count": null, 
      "cell_type": "code", 
      "source": [
        "url = ds['NEXRAD Level III Radar from IDD'].follow().catalog_url\nrs = RadarServer(url)"
      ], 
      "outputs": [], 
      "metadata": {
        "collapsed": false
      }
    }, 
    {
      "source": [
        "Look at the variables available in this dataset\n\n"
      ], 
      "cell_type": "markdown", 
      "metadata": {}
    }, 
    {
      "execution_count": null, 
      "cell_type": "code", 
      "source": [
        "print(rs.variables)"
      ], 
      "outputs": [], 
      "metadata": {
        "collapsed": false
      }
    }, 
    {
      "source": [
        "Create a new query object to help request the data. Using the chaining\nmethods, ask for data from radar FTG (Denver) for now for the product\nN0Q, which is reflectivity data for the lowest tilt. We see that when the query\nis represented as a string, it shows the encoded URL.\n\n"
      ], 
      "cell_type": "markdown", 
      "metadata": {}
    }, 
    {
      "execution_count": null, 
      "cell_type": "code", 
      "source": [
        "query = rs.query()\nquery.stations('FTG').time(datetime.utcnow()).variables('N0Q')"
      ], 
      "outputs": [], 
      "metadata": {
        "collapsed": false
      }
    }, 
    {
      "source": [
        "We can use the RadarServer instance to check our query, to make\nsure we have required parameters and that we have chosen valid\nstation(s) and variable(s)\n\n"
      ], 
      "cell_type": "markdown", 
      "metadata": {}
    }, 
    {
      "execution_count": null, 
      "cell_type": "code", 
      "source": [
        "rs.validate_query(query)"
      ], 
      "outputs": [], 
      "metadata": {
        "collapsed": false
      }
    }, 
    {
      "source": [
        "Make the request, which returns an instance of TDSCatalog. This\nhandles parsing the catalog\n\n"
      ], 
      "cell_type": "markdown", 
      "metadata": {}
    }, 
    {
      "execution_count": null, 
      "cell_type": "code", 
      "source": [
        "catalog = rs.get_catalog(query)"
      ], 
      "outputs": [], 
      "metadata": {
        "collapsed": false
      }
    }, 
    {
      "source": [
        "We can look at the datasets on the catalog to see what data we found by the query. We\nfind one NIDS file in the return.\n\n"
      ], 
      "cell_type": "markdown", 
      "metadata": {}
    }, 
    {
      "execution_count": null, 
      "cell_type": "code", 
      "source": [
        "print(catalog.datasets)"
      ], 
      "outputs": [], 
      "metadata": {
        "collapsed": false
      }
    }, 
    {
      "source": [
        "We can pull that dataset out of the dictionary and look at the available access URLs.\nWe see URLs for OPeNDAP, CDMRemote, and HTTPServer (direct download).\n\n"
      ], 
      "cell_type": "markdown", 
      "metadata": {}
    }, 
    {
      "execution_count": null, 
      "cell_type": "code", 
      "source": [
        "ds = list(catalog.datasets.values())[0]\nprint(ds.access_urls)"
      ], 
      "outputs": [], 
      "metadata": {
        "collapsed": false
      }
    }, 
    {
      "source": [
        "We'll use the CDMRemote reader in Siphon and pass it the appropriate access URL.\n\n"
      ], 
      "cell_type": "markdown", 
      "metadata": {}
    }, 
    {
      "execution_count": null, 
      "cell_type": "code", 
      "source": [
        "data = Dataset(ds.access_urls['CdmRemote'])"
      ], 
      "outputs": [], 
      "metadata": {
        "collapsed": false
      }
    }, 
    {
      "source": [
        "The CDMRemote reader provides an interface that is almost identical to the usual python\nNetCDF interface. We pull out the variables we need for azimuth and range, as well as\nthe data itself.\n\n"
      ], 
      "cell_type": "markdown", 
      "metadata": {}
    }, 
    {
      "execution_count": null, 
      "cell_type": "code", 
      "source": [
        "rng = data.variables['gate'][:] / 1000.\naz = data.variables['azimuth'][:]\nref = data.variables['BaseReflectivityDR'][:]"
      ], 
      "outputs": [], 
      "metadata": {
        "collapsed": false
      }
    }, 
    {
      "source": [
        "Then convert the polar coordinates to Cartesian\n\n"
      ], 
      "cell_type": "markdown", 
      "metadata": {}
    }, 
    {
      "execution_count": null, 
      "cell_type": "code", 
      "source": [
        "x = rng * np.sin(np.deg2rad(az))[:, None]\ny = rng * np.cos(np.deg2rad(az))[:, None]\nref = np.ma.array(ref, mask=np.isnan(ref))"
      ], 
      "outputs": [], 
      "metadata": {
        "collapsed": false
      }
    }, 
    {
      "source": [
        "Finally, we plot them up using matplotlib.\n\n"
      ], 
      "cell_type": "markdown", 
      "metadata": {}
    }, 
    {
      "execution_count": null, 
      "cell_type": "code", 
      "source": [
        "fig, ax = plt.subplots(1, 1, figsize=(9, 8))\nax.pcolormesh(x, y, ref)\nax.set_aspect('equal', 'datalim')\nax.set_xlim(-460, 460)\nax.set_ylim(-460, 460)"
      ], 
      "outputs": [], 
      "metadata": {
        "collapsed": false
      }
    }
  ], 
  "metadata": {
    "kernelspec": {
      "display_name": "Python 2", 
      "name": "python2", 
      "language": "python"
    }, 
    "language_info": {
      "mimetype": "text/x-python", 
      "nbconvert_exporter": "python", 
      "name": "python", 
      "file_extension": ".py", 
      "version": "2.7.9", 
      "pygments_lexer": "ipython2", 
      "codemirror_mode": {
        "version": 2, 
        "name": "ipython"
      }
    }
  }
}